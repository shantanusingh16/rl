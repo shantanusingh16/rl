{
 "cells": [
  {
   "cell_type": "code",
   "execution_count": 16,
   "metadata": {},
   "outputs": [],
   "source": [
    "import numpy as np\n",
    "\n",
    "def step(s,a):\n",
    "    if s%15 == 0:\n",
    "        return -1, 0\n",
    "    i = s//4\n",
    "    j = s - (4*i)\n",
    "    \n",
    "    if a == 'l':\n",
    "        if j != 0:\n",
    "            j -= 1\n",
    "    if a == 'r':\n",
    "        if j != 3:\n",
    "            j += 1\n",
    "    if a == 'u':\n",
    "        if i != 0:\n",
    "            i -= 1\n",
    "    if a == 'd':\n",
    "        if i != 3:\n",
    "            i += 1\n",
    "    return 4*i + j, -1"
   ]
  },
  {
   "cell_type": "code",
   "execution_count": 17,
   "metadata": {},
   "outputs": [],
   "source": [
    "def rand_policy(s,a):\n",
    "    return 0.25"
   ]
  },
  {
   "cell_type": "code",
   "execution_count": 30,
   "metadata": {},
   "outputs": [],
   "source": [
    "def policy_evaluation(policy, gamma, tp, v):\n",
    "    v_ = np.zeros(16)\n",
    "    for s in range(16):\n",
    "        for a in ['l','r','u','d']:\n",
    "            p = policy(s,a)\n",
    "            s_, r = step(s,a)\n",
    "            v_[s] += p*(r + gamma * v[s_]),\n",
    "    return v_"
   ]
  },
  {
   "cell_type": "code",
   "execution_count": 32,
   "metadata": {},
   "outputs": [],
   "source": [
    "r = np.vectorize(lambda x : round(x,1))\n",
    "def print_matrix(v):\n",
    "    t = PrettyTable()\n",
    "    x = np.reshape(v, (4,4))\n",
    "    for i in range(x.shape[0]):\n",
    "        t.add_row(r(x[i]))\n",
    "    print(t)"
   ]
  },
  {
   "cell_type": "code",
   "execution_count": 36,
   "metadata": {
    "scrolled": false
   },
   "outputs": [
    {
     "name": "stdout",
     "output_type": "stream",
     "text": [
      "n: 0\n",
      "+---------+---------+---------+---------+\n",
      "| Field 1 | Field 2 | Field 3 | Field 4 |\n",
      "+---------+---------+---------+---------+\n",
      "|   0.0   |   0.0   |   0.0   |   0.0   |\n",
      "|   0.0   |   0.0   |   0.0   |   0.0   |\n",
      "|   0.0   |   0.0   |   0.0   |   0.0   |\n",
      "|   0.0   |   0.0   |   0.0   |   0.0   |\n",
      "+---------+---------+---------+---------+\n",
      "n: 1\n",
      "+---------+---------+---------+---------+\n",
      "| Field 1 | Field 2 | Field 3 | Field 4 |\n",
      "+---------+---------+---------+---------+\n",
      "|   0.0   |   -1.0  |   -1.0  |   -1.0  |\n",
      "|   -1.0  |   -1.0  |   -1.0  |   -1.0  |\n",
      "|   -1.0  |   -1.0  |   -1.0  |   -1.0  |\n",
      "|   -1.0  |   -1.0  |   -1.0  |   0.0   |\n",
      "+---------+---------+---------+---------+\n",
      "n: 2\n",
      "+---------+---------+---------+---------+\n",
      "| Field 1 | Field 2 | Field 3 | Field 4 |\n",
      "+---------+---------+---------+---------+\n",
      "|   0.0   |   -1.8  |   -2.0  |   -2.0  |\n",
      "|   -1.8  |   -2.0  |   -2.0  |   -2.0  |\n",
      "|   -2.0  |   -2.0  |   -2.0  |   -1.8  |\n",
      "|   -2.0  |   -2.0  |   -1.8  |   0.0   |\n",
      "+---------+---------+---------+---------+\n",
      "n: 3\n",
      "+---------+---------+---------+---------+\n",
      "| Field 1 | Field 2 | Field 3 | Field 4 |\n",
      "+---------+---------+---------+---------+\n",
      "|   0.0   |   -2.4  |   -2.9  |   -3.0  |\n",
      "|   -2.4  |   -2.9  |   -3.0  |   -2.9  |\n",
      "|   -2.9  |   -3.0  |   -2.9  |   -2.4  |\n",
      "|   -3.0  |   -2.9  |   -2.4  |   0.0   |\n",
      "+---------+---------+---------+---------+\n",
      "n: 10\n",
      "+---------+---------+---------+---------+\n",
      "| Field 1 | Field 2 | Field 3 | Field 4 |\n",
      "+---------+---------+---------+---------+\n",
      "|   0.0   |   -6.1  |   -8.4  |   -9.0  |\n",
      "|   -6.1  |   -7.7  |   -8.4  |   -8.4  |\n",
      "|   -8.4  |   -8.4  |   -7.7  |   -6.1  |\n",
      "|   -9.0  |   -8.4  |   -6.1  |   0.0   |\n",
      "+---------+---------+---------+---------+\n",
      "n: 1000\n",
      "+---------+---------+---------+---------+\n",
      "| Field 1 | Field 2 | Field 3 | Field 4 |\n",
      "+---------+---------+---------+---------+\n",
      "|   0.0   |  -14.0  |  -20.0  |  -22.0  |\n",
      "|  -14.0  |  -18.0  |  -20.0  |  -20.0  |\n",
      "|  -20.0  |  -20.0  |  -18.0  |  -14.0  |\n",
      "|  -22.0  |  -20.0  |  -14.0  |   0.0   |\n",
      "+---------+---------+---------+---------+\n"
     ]
    }
   ],
   "source": [
    "v = np.zeros(16)\n",
    "tp = np.zeros((16,16))\n",
    "\n",
    "for i in range(1001):\n",
    "    if i in [0,1,2,3,10,1000]:\n",
    "        print(\"n:\", i)\n",
    "        print_matrix(v)\n",
    "    v = policy_evaluation(rand_policy, 1, tp, v)"
   ]
  },
  {
   "cell_type": "code",
   "execution_count": null,
   "metadata": {},
   "outputs": [],
   "source": []
  }
 ],
 "metadata": {
  "kernelspec": {
   "display_name": "Python 3",
   "language": "python",
   "name": "python3"
  },
  "language_info": {
   "codemirror_mode": {
    "name": "ipython",
    "version": 3
   },
   "file_extension": ".py",
   "mimetype": "text/x-python",
   "name": "python",
   "nbconvert_exporter": "python",
   "pygments_lexer": "ipython3",
   "version": "3.7.3"
  }
 },
 "nbformat": 4,
 "nbformat_minor": 2
}
