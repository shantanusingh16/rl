{
  "nbformat": 4,
  "nbformat_minor": 0,
  "metadata": {
    "colab": {
      "name": "Untitled0.ipynb",
      "version": "0.3.2",
      "provenance": [],
      "include_colab_link": true
    },
    "kernelspec": {
      "name": "python3",
      "display_name": "Python 3"
    }
  },
  "cells": [
    {
      "cell_type": "markdown",
      "metadata": {
        "id": "view-in-github",
        "colab_type": "text"
      },
      "source": [
        "<a href=\"https://colab.research.google.com/github/shantanusingh16/rl/blob/master/GC_openai_gym.ipynb\" target=\"_parent\"><img src=\"https://colab.research.google.com/assets/colab-badge.svg\" alt=\"Open In Colab\"/></a>"
      ]
    },
    {
      "cell_type": "code",
      "metadata": {
        "id": "gcAc9Gav3Qly",
        "colab_type": "code",
        "colab": {}
      },
      "source": [
        "!apt-get install -y xvfb python-opengl ffmpeg x11-utils > /dev/null 2>&1"
      ],
      "execution_count": 0,
      "outputs": []
    },
    {
      "cell_type": "code",
      "metadata": {
        "id": "eQWKEOKa3sm_",
        "colab_type": "code",
        "colab": {}
      },
      "source": [
        "!apt-get update > /dev/null 2>&1"
      ],
      "execution_count": 0,
      "outputs": []
    },
    {
      "cell_type": "code",
      "metadata": {
        "id": "ksZzDdWyxcHo",
        "colab_type": "code",
        "colab": {}
      },
      "source": [
        "!pip install pyvirtualdisplay pyglet==1.3.2 > /dev/null 2>&1"
      ],
      "execution_count": 0,
      "outputs": []
    },
    {
      "cell_type": "code",
      "metadata": {
        "id": "5Jn_SsLL36VK",
        "colab_type": "code",
        "colab": {}
      },
      "source": [
        "import gym\n",
        "from gym import logger as gymlogger\n",
        "from gym.wrappers import Monitor\n",
        "gymlogger.set_level(40) #error only\n",
        "import tensorflow as tf\n",
        "import numpy as np\n",
        "import random\n",
        "import matplotlib\n",
        "import matplotlib.pyplot as plt\n",
        "%matplotlib inline\n",
        "import math\n",
        "import glob\n",
        "import io\n",
        "import base64\n",
        "from IPython.display import HTML\n",
        "\n",
        "from IPython import display as ipythondisplay"
      ],
      "execution_count": 0,
      "outputs": []
    },
    {
      "cell_type": "code",
      "metadata": {
        "id": "iFCxgZjw4Ir4",
        "colab_type": "code",
        "outputId": "8f51bc5c-35a7-4777-8ba5-74ea1afa8199",
        "colab": {
          "base_uri": "https://localhost:8080/",
          "height": 55
        }
      },
      "source": [
        "from pyvirtualdisplay import Display\n",
        "display = Display(visible=0, size=(1400, 900))\n",
        "display.start()"
      ],
      "execution_count": 5,
      "outputs": [
        {
          "output_type": "execute_result",
          "data": {
            "text/plain": [
              "<Display cmd_param=['Xvfb', '-br', '-nolisten', 'tcp', '-screen', '0', '1400x900x24', ':1005'] cmd=['Xvfb', '-br', '-nolisten', 'tcp', '-screen', '0', '1400x900x24', ':1005'] oserror=None return_code=None stdout=\"None\" stderr=\"None\" timeout_happened=False>"
            ]
          },
          "metadata": {
            "tags": []
          },
          "execution_count": 5
        }
      ]
    },
    {
      "cell_type": "code",
      "metadata": {
        "id": "OAHZi83h4Qut",
        "colab_type": "code",
        "colab": {}
      },
      "source": [
        "def show_video():\n",
        "  mp4list = glob.glob('video/*.mp4')\n",
        "  if len(mp4list) > 0:\n",
        "    mp4 = mp4list[0]\n",
        "    video = io.open(mp4, 'r+b').read()\n",
        "    encoded = base64.b64encode(video)\n",
        "    ipythondisplay.display(HTML(data='''<video alt=\"test\" autoplay \n",
        "                loop controls style=\"height: 400px;\">\n",
        "                <source src=\"data:video/mp4;base64,{0}\" type=\"video/mp4\" />\n",
        "             </video>'''.format(encoded.decode('ascii'))))\n",
        "  else: \n",
        "    print(\"Could not find video\")"
      ],
      "execution_count": 0,
      "outputs": []
    },
    {
      "cell_type": "code",
      "metadata": {
        "id": "d-Wgbdae6B1D",
        "colab_type": "code",
        "colab": {}
      },
      "source": [
        "def wrap_env(env):\n",
        "  env = Monitor(env, './video', force=True)\n",
        "  return env"
      ],
      "execution_count": 0,
      "outputs": []
    },
    {
      "cell_type": "code",
      "metadata": {
        "id": "diQlFnj99oR7",
        "colab_type": "code",
        "colab": {}
      },
      "source": [
        "env = wrap_env(gym.make(\"CartPole-v1\"))"
      ],
      "execution_count": 0,
      "outputs": []
    },
    {
      "cell_type": "code",
      "metadata": {
        "id": "og3Ri6U594iR",
        "colab_type": "code",
        "outputId": "09d4e2e5-d98e-452e-bc72-d272a786a54a",
        "colab": {
          "base_uri": "https://localhost:8080/",
          "height": 35
        }
      },
      "source": [
        "#check out the pacman action space!\n",
        "print(env.action_space.n)"
      ],
      "execution_count": 12,
      "outputs": [
        {
          "output_type": "stream",
          "text": [
            "2\n"
          ],
          "name": "stdout"
        }
      ]
    },
    {
      "cell_type": "code",
      "metadata": {
        "id": "dQk4Wdm096pd",
        "colab_type": "code",
        "outputId": "b502f78c-f3b5-438b-da01-d6facc3b83ab",
        "colab": {
          "base_uri": "https://localhost:8080/",
          "height": 421
        }
      },
      "source": [
        "env.reset()\n",
        "\n",
        "while True:\n",
        "  \n",
        "    env.render()\n",
        "    \n",
        "    #your agent goes here\n",
        "    action = env.action_space.sample() \n",
        "         \n",
        "    observation, reward, done, info = env.step(action) \n",
        "   \n",
        "        \n",
        "    if done: \n",
        "      break;\n",
        "            \n",
        "env.close()\n",
        "show_video()"
      ],
      "execution_count": 13,
      "outputs": [
        {
          "output_type": "display_data",
          "data": {
            "text/html": [
              "<video alt=\"test\" autoplay \n",
              "                loop controls style=\"height: 400px;\">\n",
              "                <source src=\"data:video/mp4;base64,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\" type=\"video/mp4\" />\n",
              "             </video>"
            ],
            "text/plain": [
              "<IPython.core.display.HTML object>"
            ]
          },
          "metadata": {
            "tags": []
          }
        }
      ]
    }
  ]
}